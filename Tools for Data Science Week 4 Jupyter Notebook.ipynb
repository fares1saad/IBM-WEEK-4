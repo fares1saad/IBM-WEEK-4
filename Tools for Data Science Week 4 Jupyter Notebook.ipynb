{
 "cells": [
  {
   "cell_type": "markdown",
   "id": "fe1395e9",
   "metadata": {},
   "source": [
    "# My Jupyter Notebook which is NOT on IBM Watson Studio"
   ]
  },
  {
   "cell_type": "markdown",
   "id": "88759464",
   "metadata": {},
   "source": [
    "#### HEllo iam fares ;)"
   ]
  },
  {
   "cell_type": "markdown",
   "id": "04d5b09a",
   "metadata": {},
   "source": [
    "Computer Science Student\n",
    "\n",
    "Iam interested in data science "
   ]
  },
  {
   "cell_type": "markdown",
   "id": "28fd6522",
   "metadata": {},
   "source": [
    "## this code is for anyone that couldnt sign up for watson  ><"
   ]
  },
  {
   "cell_type": "code",
   "execution_count": 2,
   "id": "0cd258e0",
   "metadata": {},
   "outputs": [
    {
     "name": "stdout",
     "output_type": "stream",
     "text": [
      "i dont have a credit card >< \n"
     ]
    }
   ],
   "source": [
    "print(\"i dont have a credit card >< \")"
   ]
  },
  {
   "cell_type": "markdown",
   "id": "2a9e921c",
   "metadata": {},
   "source": [
    "+ One\n",
    "+ Two\n",
    "+ Three\n",
    "    - Nested One\n",
    "    - Nested Two\n",
    "\n",
    "\n",
    "1. Item\n",
    "2. Item\n",
    "\n",
    "\n",
    "* * *\n",
    "\n",
    "***\n",
    "\n",
    "*****\n",
    "\n",
    "- - -\n",
    "\n",
    "---------------------------------------\n",
    "\n",
    "| Syntax      | Description |\n",
    "| ----------- | ----------- |\n",
    "| Header      | Title       |\n",
    "| Paragraph   | Text        |\n",
    "\n",
    "\n"
   ]
  },
  {
   "cell_type": "code",
   "execution_count": null,
   "id": "13a0402e",
   "metadata": {},
   "outputs": [],
   "source": []
  }
 ],
 "metadata": {
  "kernelspec": {
   "display_name": "Python 3",
   "language": "python",
   "name": "python3"
  },
  "language_info": {
   "codemirror_mode": {
    "name": "ipython",
    "version": 3
   },
   "file_extension": ".py",
   "mimetype": "text/x-python",
   "name": "python",
   "nbconvert_exporter": "python",
   "pygments_lexer": "ipython3",
   "version": "3.8.8"
  }
 },
 "nbformat": 4,
 "nbformat_minor": 5
}
